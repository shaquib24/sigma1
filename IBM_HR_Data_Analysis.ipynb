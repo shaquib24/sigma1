{
  "nbformat": 4,
  "nbformat_minor": 0,
  "metadata": {
    "colab": {
      "name": "IBM HR Data Analysis.ipynb",
      "provenance": [],
      "authorship_tag": "ABX9TyO9ONxTE8vje30n0LrcP+Q+",
      "include_colab_link": true
    },
    "kernelspec": {
      "name": "python3",
      "display_name": "Python 3"
    },
    "language_info": {
      "name": "python"
    }
  },
  "cells": [
    {
      "cell_type": "markdown",
      "metadata": {
        "id": "view-in-github",
        "colab_type": "text"
      },
      "source": [
        "<a href=\"https://colab.research.google.com/github/shaquib24/sigma1/blob/main/IBM_HR_Data_Analysis.ipynb\" target=\"_parent\"><img src=\"https://colab.research.google.com/assets/colab-badge.svg\" alt=\"Open In Colab\"/></a>"
      ]
    },
    {
      "cell_type": "markdown",
      "metadata": {
        "id": "_e4RZK4P1Zwo"
      },
      "source": [
        "### Importing all neccessary Library"
      ]
    },
    {
      "cell_type": "code",
      "metadata": {
        "id": "vzNyzYNy4vLA"
      },
      "source": [
        "import pandas as pd\n",
        "import seaborn as sns\n",
        "import matplotlib.pyplot as plt\n",
        "import numpy as np\n"
      ],
      "execution_count": null,
      "outputs": []
    },
    {
      "cell_type": "markdown",
      "metadata": {
        "id": "No-3WFEf2Q0u"
      },
      "source": [
        "### Reading data"
      ]
    },
    {
      "cell_type": "code",
      "metadata": {
        "colab": {
          "base_uri": "https://localhost:8080/",
          "height": 292
        },
        "id": "aQeDcqza-urC",
        "outputId": "425efeb5-1b3d-46a2-bb2f-93a4dcb166f4"
      },
      "source": [
        "df=pd.read_csv(\"IBM Attrition Data.csv\")\n",
        "df.head()"
      ],
      "execution_count": null,
      "outputs": [
        {
          "output_type": "execute_result",
          "data": {
            "text/html": [
              "<div>\n",
              "<style scoped>\n",
              "    .dataframe tbody tr th:only-of-type {\n",
              "        vertical-align: middle;\n",
              "    }\n",
              "\n",
              "    .dataframe tbody tr th {\n",
              "        vertical-align: top;\n",
              "    }\n",
              "\n",
              "    .dataframe thead th {\n",
              "        text-align: right;\n",
              "    }\n",
              "</style>\n",
              "<table border=\"1\" class=\"dataframe\">\n",
              "  <thead>\n",
              "    <tr style=\"text-align: right;\">\n",
              "      <th></th>\n",
              "      <th>Age</th>\n",
              "      <th>Attrition</th>\n",
              "      <th>Department</th>\n",
              "      <th>DistanceFromHome</th>\n",
              "      <th>Education</th>\n",
              "      <th>EducationField</th>\n",
              "      <th>EnvironmentSatisfaction</th>\n",
              "      <th>JobSatisfaction</th>\n",
              "      <th>MaritalStatus</th>\n",
              "      <th>MonthlyIncome</th>\n",
              "      <th>NumCompaniesWorked</th>\n",
              "      <th>WorkLifeBalance</th>\n",
              "      <th>YearsAtCompany</th>\n",
              "    </tr>\n",
              "  </thead>\n",
              "  <tbody>\n",
              "    <tr>\n",
              "      <th>0</th>\n",
              "      <td>41</td>\n",
              "      <td>Yes</td>\n",
              "      <td>Sales</td>\n",
              "      <td>1</td>\n",
              "      <td>2</td>\n",
              "      <td>Life Sciences</td>\n",
              "      <td>2</td>\n",
              "      <td>4</td>\n",
              "      <td>Single</td>\n",
              "      <td>5993</td>\n",
              "      <td>8</td>\n",
              "      <td>1</td>\n",
              "      <td>6</td>\n",
              "    </tr>\n",
              "    <tr>\n",
              "      <th>1</th>\n",
              "      <td>49</td>\n",
              "      <td>No</td>\n",
              "      <td>Research &amp; Development</td>\n",
              "      <td>8</td>\n",
              "      <td>1</td>\n",
              "      <td>Life Sciences</td>\n",
              "      <td>3</td>\n",
              "      <td>2</td>\n",
              "      <td>Married</td>\n",
              "      <td>5130</td>\n",
              "      <td>1</td>\n",
              "      <td>3</td>\n",
              "      <td>10</td>\n",
              "    </tr>\n",
              "    <tr>\n",
              "      <th>2</th>\n",
              "      <td>37</td>\n",
              "      <td>Yes</td>\n",
              "      <td>Research &amp; Development</td>\n",
              "      <td>2</td>\n",
              "      <td>2</td>\n",
              "      <td>Other</td>\n",
              "      <td>4</td>\n",
              "      <td>3</td>\n",
              "      <td>Single</td>\n",
              "      <td>2090</td>\n",
              "      <td>6</td>\n",
              "      <td>3</td>\n",
              "      <td>0</td>\n",
              "    </tr>\n",
              "    <tr>\n",
              "      <th>3</th>\n",
              "      <td>33</td>\n",
              "      <td>No</td>\n",
              "      <td>Research &amp; Development</td>\n",
              "      <td>3</td>\n",
              "      <td>4</td>\n",
              "      <td>Life Sciences</td>\n",
              "      <td>4</td>\n",
              "      <td>3</td>\n",
              "      <td>Married</td>\n",
              "      <td>2909</td>\n",
              "      <td>1</td>\n",
              "      <td>3</td>\n",
              "      <td>8</td>\n",
              "    </tr>\n",
              "    <tr>\n",
              "      <th>4</th>\n",
              "      <td>27</td>\n",
              "      <td>No</td>\n",
              "      <td>Research &amp; Development</td>\n",
              "      <td>2</td>\n",
              "      <td>1</td>\n",
              "      <td>Medical</td>\n",
              "      <td>1</td>\n",
              "      <td>2</td>\n",
              "      <td>Married</td>\n",
              "      <td>3468</td>\n",
              "      <td>9</td>\n",
              "      <td>3</td>\n",
              "      <td>2</td>\n",
              "    </tr>\n",
              "  </tbody>\n",
              "</table>\n",
              "</div>"
            ],
            "text/plain": [
              "   Age Attrition  ... WorkLifeBalance  YearsAtCompany\n",
              "0   41       Yes  ...               1               6\n",
              "1   49        No  ...               3              10\n",
              "2   37       Yes  ...               3               0\n",
              "3   33        No  ...               3               8\n",
              "4   27        No  ...               3               2\n",
              "\n",
              "[5 rows x 13 columns]"
            ]
          },
          "metadata": {},
          "execution_count": 29
        }
      ]
    },
    {
      "cell_type": "markdown",
      "metadata": {
        "id": "kO6jrzfq2bbD"
      },
      "source": [
        "### Checking null values"
      ]
    },
    {
      "cell_type": "code",
      "metadata": {
        "colab": {
          "base_uri": "https://localhost:8080/"
        },
        "id": "Na4tzzdG5lRW",
        "outputId": "0da5b290-7137-4e0a-f8e2-b8acf4f0faf7"
      },
      "source": [
        "df.isnull().sum()"
      ],
      "execution_count": null,
      "outputs": [
        {
          "output_type": "execute_result",
          "data": {
            "text/plain": [
              "Age                        0\n",
              "Attrition                  0\n",
              "Department                 0\n",
              "DistanceFromHome           0\n",
              "Education                  0\n",
              "EducationField             0\n",
              "EnvironmentSatisfaction    0\n",
              "JobSatisfaction            0\n",
              "MaritalStatus              0\n",
              "MonthlyIncome              0\n",
              "NumCompaniesWorked         0\n",
              "WorkLifeBalance            0\n",
              "YearsAtCompany             0\n",
              "dtype: int64"
            ]
          },
          "metadata": {},
          "execution_count": 30
        }
      ]
    },
    {
      "cell_type": "code",
      "metadata": {
        "colab": {
          "base_uri": "https://localhost:8080/"
        },
        "id": "RHcyBHAV-16N",
        "outputId": "f4462c6a-b74f-440e-94ed-c0675c7238cb"
      },
      "source": [
        "df.shape"
      ],
      "execution_count": null,
      "outputs": [
        {
          "output_type": "execute_result",
          "data": {
            "text/plain": [
              "(1470, 13)"
            ]
          },
          "metadata": {},
          "execution_count": 31
        }
      ]
    },
    {
      "cell_type": "code",
      "metadata": {
        "colab": {
          "base_uri": "https://localhost:8080/"
        },
        "id": "o7Kj8gsnEL__",
        "outputId": "ffd8fabe-428d-4775-da79-2b13f3907ee8"
      },
      "source": [
        "df.dtypes"
      ],
      "execution_count": null,
      "outputs": [
        {
          "output_type": "execute_result",
          "data": {
            "text/plain": [
              "Age                         int64\n",
              "Attrition                  object\n",
              "Department                 object\n",
              "DistanceFromHome            int64\n",
              "Education                   int64\n",
              "EducationField             object\n",
              "EnvironmentSatisfaction     int64\n",
              "JobSatisfaction             int64\n",
              "MaritalStatus              object\n",
              "MonthlyIncome               int64\n",
              "NumCompaniesWorked          int64\n",
              "WorkLifeBalance             int64\n",
              "YearsAtCompany              int64\n",
              "dtype: object"
            ]
          },
          "metadata": {},
          "execution_count": 32
        }
      ]
    },
    {
      "cell_type": "markdown",
      "metadata": {
        "id": "qJsOsvBc2lbi"
      },
      "source": [
        "### Extracting all columns"
      ]
    },
    {
      "cell_type": "code",
      "metadata": {
        "colab": {
          "base_uri": "https://localhost:8080/"
        },
        "id": "yfMD6Ruh_F5-",
        "outputId": "c357f323-b772-4775-a086-a5040dde2994"
      },
      "source": [
        "df.columns"
      ],
      "execution_count": null,
      "outputs": [
        {
          "output_type": "execute_result",
          "data": {
            "text/plain": [
              "Index(['Age', 'Attrition', 'Department', 'DistanceFromHome', 'Education',\n",
              "       'EducationField', 'EnvironmentSatisfaction', 'JobSatisfaction',\n",
              "       'MaritalStatus', 'MonthlyIncome', 'NumCompaniesWorked',\n",
              "       'WorkLifeBalance', 'YearsAtCompany'],\n",
              "      dtype='object')"
            ]
          },
          "metadata": {},
          "execution_count": 33
        }
      ]
    },
    {
      "cell_type": "markdown",
      "metadata": {
        "id": "thsgi7Ec2uqM"
      },
      "source": [
        "### Statistical parameter"
      ]
    },
    {
      "cell_type": "code",
      "metadata": {
        "colab": {
          "base_uri": "https://localhost:8080/",
          "height": 317
        },
        "id": "NS6bf1dP_NGe",
        "outputId": "c6794569-b579-4b12-d06e-3c89366fcd2e"
      },
      "source": [
        "df.describe()"
      ],
      "execution_count": null,
      "outputs": [
        {
          "output_type": "execute_result",
          "data": {
            "text/html": [
              "<div>\n",
              "<style scoped>\n",
              "    .dataframe tbody tr th:only-of-type {\n",
              "        vertical-align: middle;\n",
              "    }\n",
              "\n",
              "    .dataframe tbody tr th {\n",
              "        vertical-align: top;\n",
              "    }\n",
              "\n",
              "    .dataframe thead th {\n",
              "        text-align: right;\n",
              "    }\n",
              "</style>\n",
              "<table border=\"1\" class=\"dataframe\">\n",
              "  <thead>\n",
              "    <tr style=\"text-align: right;\">\n",
              "      <th></th>\n",
              "      <th>Age</th>\n",
              "      <th>DistanceFromHome</th>\n",
              "      <th>Education</th>\n",
              "      <th>EnvironmentSatisfaction</th>\n",
              "      <th>JobSatisfaction</th>\n",
              "      <th>MonthlyIncome</th>\n",
              "      <th>NumCompaniesWorked</th>\n",
              "      <th>WorkLifeBalance</th>\n",
              "      <th>YearsAtCompany</th>\n",
              "    </tr>\n",
              "  </thead>\n",
              "  <tbody>\n",
              "    <tr>\n",
              "      <th>count</th>\n",
              "      <td>1470.000000</td>\n",
              "      <td>1470.000000</td>\n",
              "      <td>1470.000000</td>\n",
              "      <td>1470.000000</td>\n",
              "      <td>1470.000000</td>\n",
              "      <td>1470.000000</td>\n",
              "      <td>1470.000000</td>\n",
              "      <td>1470.000000</td>\n",
              "      <td>1470.000000</td>\n",
              "    </tr>\n",
              "    <tr>\n",
              "      <th>mean</th>\n",
              "      <td>36.923810</td>\n",
              "      <td>9.192517</td>\n",
              "      <td>2.912925</td>\n",
              "      <td>2.721769</td>\n",
              "      <td>2.728571</td>\n",
              "      <td>6502.931293</td>\n",
              "      <td>2.693197</td>\n",
              "      <td>2.761224</td>\n",
              "      <td>7.008163</td>\n",
              "    </tr>\n",
              "    <tr>\n",
              "      <th>std</th>\n",
              "      <td>9.135373</td>\n",
              "      <td>8.106864</td>\n",
              "      <td>1.024165</td>\n",
              "      <td>1.093082</td>\n",
              "      <td>1.102846</td>\n",
              "      <td>4707.956783</td>\n",
              "      <td>2.498009</td>\n",
              "      <td>0.706476</td>\n",
              "      <td>6.126525</td>\n",
              "    </tr>\n",
              "    <tr>\n",
              "      <th>min</th>\n",
              "      <td>18.000000</td>\n",
              "      <td>1.000000</td>\n",
              "      <td>1.000000</td>\n",
              "      <td>1.000000</td>\n",
              "      <td>1.000000</td>\n",
              "      <td>1009.000000</td>\n",
              "      <td>0.000000</td>\n",
              "      <td>1.000000</td>\n",
              "      <td>0.000000</td>\n",
              "    </tr>\n",
              "    <tr>\n",
              "      <th>25%</th>\n",
              "      <td>30.000000</td>\n",
              "      <td>2.000000</td>\n",
              "      <td>2.000000</td>\n",
              "      <td>2.000000</td>\n",
              "      <td>2.000000</td>\n",
              "      <td>2911.000000</td>\n",
              "      <td>1.000000</td>\n",
              "      <td>2.000000</td>\n",
              "      <td>3.000000</td>\n",
              "    </tr>\n",
              "    <tr>\n",
              "      <th>50%</th>\n",
              "      <td>36.000000</td>\n",
              "      <td>7.000000</td>\n",
              "      <td>3.000000</td>\n",
              "      <td>3.000000</td>\n",
              "      <td>3.000000</td>\n",
              "      <td>4919.000000</td>\n",
              "      <td>2.000000</td>\n",
              "      <td>3.000000</td>\n",
              "      <td>5.000000</td>\n",
              "    </tr>\n",
              "    <tr>\n",
              "      <th>75%</th>\n",
              "      <td>43.000000</td>\n",
              "      <td>14.000000</td>\n",
              "      <td>4.000000</td>\n",
              "      <td>4.000000</td>\n",
              "      <td>4.000000</td>\n",
              "      <td>8379.000000</td>\n",
              "      <td>4.000000</td>\n",
              "      <td>3.000000</td>\n",
              "      <td>9.000000</td>\n",
              "    </tr>\n",
              "    <tr>\n",
              "      <th>max</th>\n",
              "      <td>60.000000</td>\n",
              "      <td>29.000000</td>\n",
              "      <td>5.000000</td>\n",
              "      <td>4.000000</td>\n",
              "      <td>4.000000</td>\n",
              "      <td>19999.000000</td>\n",
              "      <td>9.000000</td>\n",
              "      <td>4.000000</td>\n",
              "      <td>40.000000</td>\n",
              "    </tr>\n",
              "  </tbody>\n",
              "</table>\n",
              "</div>"
            ],
            "text/plain": [
              "               Age  DistanceFromHome  ...  WorkLifeBalance  YearsAtCompany\n",
              "count  1470.000000       1470.000000  ...      1470.000000     1470.000000\n",
              "mean     36.923810          9.192517  ...         2.761224        7.008163\n",
              "std       9.135373          8.106864  ...         0.706476        6.126525\n",
              "min      18.000000          1.000000  ...         1.000000        0.000000\n",
              "25%      30.000000          2.000000  ...         2.000000        3.000000\n",
              "50%      36.000000          7.000000  ...         3.000000        5.000000\n",
              "75%      43.000000         14.000000  ...         3.000000        9.000000\n",
              "max      60.000000         29.000000  ...         4.000000       40.000000\n",
              "\n",
              "[8 rows x 9 columns]"
            ]
          },
          "metadata": {},
          "execution_count": 34
        }
      ]
    },
    {
      "cell_type": "code",
      "metadata": {
        "colab": {
          "base_uri": "https://localhost:8080/"
        },
        "id": "8mItl04L_d_m",
        "outputId": "b30155cf-e2c2-41d8-9834-e4b615bab0b9"
      },
      "source": [
        "df[\"Age\"].unique()"
      ],
      "execution_count": null,
      "outputs": [
        {
          "output_type": "execute_result",
          "data": {
            "text/plain": [
              "array([41, 49, 37, 33, 27, 32, 59, 30, 38, 36, 35, 29, 31, 34, 28, 22, 53,\n",
              "       24, 21, 42, 44, 46, 39, 43, 50, 26, 48, 55, 45, 56, 23, 51, 40, 54,\n",
              "       58, 20, 25, 19, 57, 52, 47, 18, 60])"
            ]
          },
          "metadata": {},
          "execution_count": 35
        }
      ]
    },
    {
      "cell_type": "markdown",
      "metadata": {
        "id": "YTkjNLNaxExA"
      },
      "source": [
        "###   Age Distribution of Employees"
      ]
    },
    {
      "cell_type": "code",
      "metadata": {
        "colab": {
          "base_uri": "https://localhost:8080/",
          "height": 523
        },
        "id": "SL9fzk-NAlzn",
        "outputId": "43523c99-45c9-4fea-c71d-6871176f2ed1"
      },
      "source": [
        "plt.figure(figsize=(15,8))\n",
        "sns.histplot(x=\"Age\", data=df,kde=True)\n",
        "plt.title(\" Age Distribution of Employee\",fontsize=20)\n",
        "plt.xlabel(\"Age\",fontsize=16)\n",
        "plt.ylabel(\" Number of Employee\",fontsize=16)\n",
        "plt.show()\n",
        "\n",
        "# graph show maximum nunber of employees age lies between 28 to 40 "
      ],
      "execution_count": null,
      "outputs": [
        {
          "output_type": "display_data",
          "data": {
            "image/png": "[encoded data removed]",
            "text/plain": [
              "<Figure size 1080x576 with 1 Axes>"
            ]
          },
          "metadata": {
            "needs_background": "light"
          }
        }
      ]
    },
    {
      "cell_type": "markdown",
      "metadata": {
        "id": "fENNTOIqxOvA"
      },
      "source": [
        "###    Attrition by Age"
      ]
    },
    {
      "cell_type": "code",
      "metadata": {
        "id": "787mPXNDA7Yl"
      },
      "source": [
        "x=df.groupby([\"Age\",\"Attrition\"])"
      ],
      "execution_count": null,
      "outputs": []
    },
    {
      "cell_type": "code",
      "metadata": {
        "colab": {
          "base_uri": "https://localhost:8080/",
          "height": 589
        },
        "id": "bMGNRu3YH_tW",
        "outputId": "cb496d08-8ce6-4032-e0a8-87e7331ebe41"
      },
      "source": [
        "x.first()"
      ],
      "execution_count": null,
      "outputs": [
        {
          "output_type": "execute_result",
          "data": {
            "text/html": [
              "<div>\n",
              "<style scoped>\n",
              "    .dataframe tbody tr th:only-of-type {\n",
              "        vertical-align: middle;\n",
              "    }\n",
              "\n",
              "    .dataframe tbody tr th {\n",
              "        vertical-align: top;\n",
              "    }\n",
              "\n",
              "    .dataframe thead th {\n",
              "        text-align: right;\n",
              "    }\n",
              "</style>\n",
              "<table border=\"1\" class=\"dataframe\">\n",
              "  <thead>\n",
              "    <tr style=\"text-align: right;\">\n",
              "      <th></th>\n",
              "      <th></th>\n",
              "      <th>Department</th>\n",
              "      <th>DistanceFromHome</th>\n",
              "      <th>Education</th>\n",
              "      <th>EducationField</th>\n",
              "      <th>EnvironmentSatisfaction</th>\n",
              "      <th>JobSatisfaction</th>\n",
              "      <th>MaritalStatus</th>\n",
              "      <th>MonthlyIncome</th>\n",
              "      <th>NumCompaniesWorked</th>\n",
              "      <th>WorkLifeBalance</th>\n",
              "      <th>YearsAtCompany</th>\n",
              "    </tr>\n",
              "    <tr>\n",
              "      <th>Age</th>\n",
              "      <th>Attrition</th>\n",
              "      <th></th>\n",
              "      <th></th>\n",
              "      <th></th>\n",
              "      <th></th>\n",
              "      <th></th>\n",
              "      <th></th>\n",
              "      <th></th>\n",
              "      <th></th>\n",
              "      <th></th>\n",
              "      <th></th>\n",
              "      <th></th>\n",
              "    </tr>\n",
              "  </thead>\n",
              "  <tbody>\n",
              "    <tr>\n",
              "      <th rowspan=\"2\" valign=\"top\">18</th>\n",
              "      <th>No</th>\n",
              "      <td>Sales</td>\n",
              "      <td>10</td>\n",
              "      <td>3</td>\n",
              "      <td>Medical</td>\n",
              "      <td>4</td>\n",
              "      <td>3</td>\n",
              "      <td>Single</td>\n",
              "      <td>1200</td>\n",
              "      <td>1</td>\n",
              "      <td>3</td>\n",
              "      <td>0</td>\n",
              "    </tr>\n",
              "    <tr>\n",
              "      <th>Yes</th>\n",
              "      <td>Research &amp; Development</td>\n",
              "      <td>3</td>\n",
              "      <td>3</td>\n",
              "      <td>Life Sciences</td>\n",
              "      <td>3</td>\n",
              "      <td>3</td>\n",
              "      <td>Single</td>\n",
              "      <td>1420</td>\n",
              "      <td>1</td>\n",
              "      <td>3</td>\n",
              "      <td>0</td>\n",
              "    </tr>\n",
              "    <tr>\n",
              "      <th rowspan=\"2\" valign=\"top\">19</th>\n",
              "      <th>No</th>\n",
              "      <td>Research &amp; Development</td>\n",
              "      <td>3</td>\n",
              "      <td>1</td>\n",
              "      <td>Medical</td>\n",
              "      <td>2</td>\n",
              "      <td>2</td>\n",
              "      <td>Single</td>\n",
              "      <td>1483</td>\n",
              "      <td>1</td>\n",
              "      <td>3</td>\n",
              "      <td>1</td>\n",
              "    </tr>\n",
              "    <tr>\n",
              "      <th>Yes</th>\n",
              "      <td>Sales</td>\n",
              "      <td>22</td>\n",
              "      <td>1</td>\n",
              "      <td>Marketing</td>\n",
              "      <td>4</td>\n",
              "      <td>3</td>\n",
              "      <td>Single</td>\n",
              "      <td>1675</td>\n",
              "      <td>1</td>\n",
              "      <td>2</td>\n",
              "      <td>0</td>\n",
              "    </tr>\n",
              "    <tr>\n",
              "      <th>20</th>\n",
              "      <th>No</th>\n",
              "      <td>Research &amp; Development</td>\n",
              "      <td>1</td>\n",
              "      <td>3</td>\n",
              "      <td>Life Sciences</td>\n",
              "      <td>4</td>\n",
              "      <td>2</td>\n",
              "      <td>Single</td>\n",
              "      <td>2836</td>\n",
              "      <td>1</td>\n",
              "      <td>4</td>\n",
              "      <td>1</td>\n",
              "    </tr>\n",
              "    <tr>\n",
              "      <th>...</th>\n",
              "      <th>...</th>\n",
              "      <td>...</td>\n",
              "      <td>...</td>\n",
              "      <td>...</td>\n",
              "      <td>...</td>\n",
              "      <td>...</td>\n",
              "      <td>...</td>\n",
              "      <td>...</td>\n",
              "      <td>...</td>\n",
              "      <td>...</td>\n",
              "      <td>...</td>\n",
              "      <td>...</td>\n",
              "    </tr>\n",
              "    <tr>\n",
              "      <th>57</th>\n",
              "      <th>No</th>\n",
              "      <td>Research &amp; Development</td>\n",
              "      <td>24</td>\n",
              "      <td>2</td>\n",
              "      <td>Life Sciences</td>\n",
              "      <td>3</td>\n",
              "      <td>4</td>\n",
              "      <td>Divorced</td>\n",
              "      <td>9439</td>\n",
              "      <td>3</td>\n",
              "      <td>1</td>\n",
              "      <td>5</td>\n",
              "    </tr>\n",
              "    <tr>\n",
              "      <th rowspan=\"2\" valign=\"top\">58</th>\n",
              "      <th>No</th>\n",
              "      <td>Sales</td>\n",
              "      <td>10</td>\n",
              "      <td>4</td>\n",
              "      <td>Medical</td>\n",
              "      <td>4</td>\n",
              "      <td>3</td>\n",
              "      <td>Single</td>\n",
              "      <td>13872</td>\n",
              "      <td>0</td>\n",
              "      <td>2</td>\n",
              "      <td>37</td>\n",
              "    </tr>\n",
              "    <tr>\n",
              "      <th>Yes</th>\n",
              "      <td>Research &amp; Development</td>\n",
              "      <td>23</td>\n",
              "      <td>4</td>\n",
              "      <td>Medical</td>\n",
              "      <td>4</td>\n",
              "      <td>4</td>\n",
              "      <td>Married</td>\n",
              "      <td>10312</td>\n",
              "      <td>1</td>\n",
              "      <td>2</td>\n",
              "      <td>40</td>\n",
              "    </tr>\n",
              "    <tr>\n",
              "      <th>59</th>\n",
              "      <th>No</th>\n",
              "      <td>Research &amp; Development</td>\n",
              "      <td>3</td>\n",
              "      <td>3</td>\n",
              "      <td>Medical</td>\n",
              "      <td>3</td>\n",
              "      <td>1</td>\n",
              "      <td>Married</td>\n",
              "      <td>2670</td>\n",
              "      <td>4</td>\n",
              "      <td>2</td>\n",
              "      <td>1</td>\n",
              "    </tr>\n",
              "    <tr>\n",
              "      <th>60</th>\n",
              "      <th>No</th>\n",
              "      <td>Research &amp; Development</td>\n",
              "      <td>7</td>\n",
              "      <td>3</td>\n",
              "      <td>Life Sciences</td>\n",
              "      <td>1</td>\n",
              "      <td>1</td>\n",
              "      <td>Married</td>\n",
              "      <td>19566</td>\n",
              "      <td>5</td>\n",
              "      <td>1</td>\n",
              "      <td>29</td>\n",
              "    </tr>\n",
              "  </tbody>\n",
              "</table>\n",
              "<p>82 rows × 11 columns</p>\n",
              "</div>"
            ],
            "text/plain": [
              "                           Department  ...  YearsAtCompany\n",
              "Age Attrition                          ...                \n",
              "18  No                          Sales  ...               0\n",
              "    Yes        Research & Development  ...               0\n",
              "19  No         Research & Development  ...               1\n",
              "    Yes                         Sales  ...               0\n",
              "20  No         Research & Development  ...               1\n",
              "...                               ...  ...             ...\n",
              "57  No         Research & Development  ...               5\n",
              "58  No                          Sales  ...              37\n",
              "    Yes        Research & Development  ...              40\n",
              "59  No         Research & Development  ...               1\n",
              "60  No         Research & Development  ...              29\n",
              "\n",
              "[82 rows x 11 columns]"
            ]
          },
          "metadata": {},
          "execution_count": 38
        }
      ]
    },
    {
      "cell_type": "markdown",
      "metadata": {
        "id": "HOJBJQd13R9x"
      },
      "source": [
        "### Attrition Values"
      ]
    },
    {
      "cell_type": "code",
      "metadata": {
        "colab": {
          "base_uri": "https://localhost:8080/"
        },
        "id": "79Ihrhiw7stk",
        "outputId": "51f2e87c-15ae-4c15-9434-00fe1086a85d"
      },
      "source": [
        "df[\"Attrition\"].value_counts()"
      ],
      "execution_count": null,
      "outputs": [
        {
          "output_type": "execute_result",
          "data": {
            "text/plain": [
              "No     1233\n",
              "Yes     237\n",
              "Name: Attrition, dtype: int64"
            ]
          },
          "metadata": {},
          "execution_count": 39
        }
      ]
    },
    {
      "cell_type": "code",
      "metadata": {
        "colab": {
          "base_uri": "https://localhost:8080/"
        },
        "id": "6iHtKCWJL9k4",
        "outputId": "133835c9-cbb2-4e67-b96a-2d6a3cdae98e"
      },
      "source": [
        "df.groupby(\"Age\")[\"Attrition\"].value_counts().head(15)"
      ],
      "execution_count": null,
      "outputs": [
        {
          "output_type": "execute_result",
          "data": {
            "text/plain": [
              "Age  Attrition\n",
              "18   No            4\n",
              "     Yes           4\n",
              "19   Yes           6\n",
              "     No            3\n",
              "20   Yes           6\n",
              "     No            5\n",
              "21   No            7\n",
              "     Yes           6\n",
              "22   No           11\n",
              "     Yes           5\n",
              "23   No           10\n",
              "     Yes           4\n",
              "24   No           19\n",
              "     Yes           7\n",
              "25   No           20\n",
              "Name: Attrition, dtype: int64"
            ]
          },
          "metadata": {},
          "execution_count": 40
        }
      ]
    },
    {
      "cell_type": "code",
      "metadata": {
        "colab": {
          "base_uri": "https://localhost:8080/",
          "height": 398
        },
        "id": "VB7Q2laZt_Qa",
        "outputId": "bbf621e6-12a3-4cce-9cbf-51e15a09b94a"
      },
      "source": [
        "plt.figure(figsize=(12,6))\n",
        "df.Attrition.value_counts().plot(kind=\"barh\",color=\"c\")\n",
        "plt.title(\"Attrition\", fontsize=23)\n",
        "\n",
        "plt.show()\n",
        "\n",
        "# Visualization show us that approx 240 employees has left the company"
      ],
      "execution_count": null,
      "outputs": [
        {
          "output_type": "display_data",
          "data": {
            "image/png": "[encoded data removed]",
            "text/plain": [
              "<Figure size 864x432 with 1 Axes>"
            ]
          },
          "metadata": {
            "needs_background": "light"
          }
        }
      ]
    },
    {
      "cell_type": "markdown",
      "metadata": {
        "id": "cgHg6N3SyLpB"
      },
      "source": [
        "### **Attrition by All different Age**"
      ]
    },
    {
      "cell_type": "code",
      "metadata": {
        "colab": {
          "base_uri": "https://localhost:8080/",
          "height": 584
        },
        "id": "9b5_h-OlJlFX",
        "outputId": "fc6a1419-b7d4-4aed-e38c-bbc5b5fc9585"
      },
      "source": [
        "plt.figure(figsize=(20,9))\n",
        "df.groupby(\"Age\")[\"Attrition\"].value_counts().plot(kind=\"bar\")\n",
        "plt.show()\n",
        "\n",
        "##### Below distribution tells about how many employees are leaving the company at what age."
      ],
      "execution_count": null,
      "outputs": [
        {
          "output_type": "display_data",
          "data": {
            "image/png": "[encoded data removed]",
            "text/plain": [
              "<Figure size 1440x648 with 1 Axes>"
            ]
          },
          "metadata": {
            "needs_background": "light"
          }
        }
      ]
    },
    {
      "cell_type": "markdown",
      "metadata": {
        "id": "l65VQKKZ7Pia"
      },
      "source": [
        "**Left Employees DataFrame**"
      ]
    },
    {
      "cell_type": "code",
      "metadata": {
        "colab": {
          "base_uri": "https://localhost:8080/",
          "height": 481
        },
        "id": "Z7FqDJ_NKJ0R",
        "outputId": "57bc2dda-bf99-4d74-e159-e87177bf8ca8"
      },
      "source": [
        "df_left_employee=df.groupby(\"Attrition\").get_group(\"Yes\")\n",
        "df_left_employee.head(10)"
      ],
      "execution_count": null,
      "outputs": [
        {
          "output_type": "execute_result",
          "data": {
            "text/html": [
              "<div>\n",
              "<style scoped>\n",
              "    .dataframe tbody tr th:only-of-type {\n",
              "        vertical-align: middle;\n",
              "    }\n",
              "\n",
              "    .dataframe tbody tr th {\n",
              "        vertical-align: top;\n",
              "    }\n",
              "\n",
              "    .dataframe thead th {\n",
              "        text-align: right;\n",
              "    }\n",
              "</style>\n",
              "<table border=\"1\" class=\"dataframe\">\n",
              "  <thead>\n",
              "    <tr style=\"text-align: right;\">\n",
              "      <th></th>\n",
              "      <th>Age</th>\n",
              "      <th>Attrition</th>\n",
              "      <th>Department</th>\n",
              "      <th>DistanceFromHome</th>\n",
              "      <th>Education</th>\n",
              "      <th>EducationField</th>\n",
              "      <th>EnvironmentSatisfaction</th>\n",
              "      <th>JobSatisfaction</th>\n",
              "      <th>MaritalStatus</th>\n",
              "      <th>MonthlyIncome</th>\n",
              "      <th>NumCompaniesWorked</th>\n",
              "      <th>WorkLifeBalance</th>\n",
              "      <th>YearsAtCompany</th>\n",
              "    </tr>\n",
              "  </thead>\n",
              "  <tbody>\n",
              "    <tr>\n",
              "      <th>0</th>\n",
              "      <td>41</td>\n",
              "      <td>Yes</td>\n",
              "      <td>Sales</td>\n",
              "      <td>1</td>\n",
              "      <td>2</td>\n",
              "      <td>Life Sciences</td>\n",
              "      <td>2</td>\n",
              "      <td>4</td>\n",
              "      <td>Single</td>\n",
              "      <td>5993</td>\n",
              "      <td>8</td>\n",
              "      <td>1</td>\n",
              "      <td>6</td>\n",
              "    </tr>\n",
              "    <tr>\n",
              "      <th>2</th>\n",
              "      <td>37</td>\n",
              "      <td>Yes</td>\n",
              "      <td>Research &amp; Development</td>\n",
              "      <td>2</td>\n",
              "      <td>2</td>\n",
              "      <td>Other</td>\n",
              "      <td>4</td>\n",
              "      <td>3</td>\n",
              "      <td>Single</td>\n",
              "      <td>2090</td>\n",
              "      <td>6</td>\n",
              "      <td>3</td>\n",
              "      <td>0</td>\n",
              "    </tr>\n",
              "    <tr>\n",
              "      <th>14</th>\n",
              "      <td>28</td>\n",
              "      <td>Yes</td>\n",
              "      <td>Research &amp; Development</td>\n",
              "      <td>24</td>\n",
              "      <td>3</td>\n",
              "      <td>Life Sciences</td>\n",
              "      <td>3</td>\n",
              "      <td>3</td>\n",
              "      <td>Single</td>\n",
              "      <td>2028</td>\n",
              "      <td>5</td>\n",
              "      <td>3</td>\n",
              "      <td>4</td>\n",
              "    </tr>\n",
              "    <tr>\n",
              "      <th>21</th>\n",
              "      <td>36</td>\n",
              "      <td>Yes</td>\n",
              "      <td>Sales</td>\n",
              "      <td>9</td>\n",
              "      <td>4</td>\n",
              "      <td>Life Sciences</td>\n",
              "      <td>3</td>\n",
              "      <td>1</td>\n",
              "      <td>Single</td>\n",
              "      <td>3407</td>\n",
              "      <td>7</td>\n",
              "      <td>3</td>\n",
              "      <td>5</td>\n",
              "    </tr>\n",
              "    <tr>\n",
              "      <th>24</th>\n",
              "      <td>34</td>\n",
              "      <td>Yes</td>\n",
              "      <td>Research &amp; Development</td>\n",
              "      <td>6</td>\n",
              "      <td>1</td>\n",
              "      <td>Medical</td>\n",
              "      <td>2</td>\n",
              "      <td>1</td>\n",
              "      <td>Single</td>\n",
              "      <td>2960</td>\n",
              "      <td>2</td>\n",
              "      <td>3</td>\n",
              "      <td>4</td>\n",
              "    </tr>\n",
              "    <tr>\n",
              "      <th>26</th>\n",
              "      <td>32</td>\n",
              "      <td>Yes</td>\n",
              "      <td>Research &amp; Development</td>\n",
              "      <td>16</td>\n",
              "      <td>1</td>\n",
              "      <td>Life Sciences</td>\n",
              "      <td>2</td>\n",
              "      <td>1</td>\n",
              "      <td>Single</td>\n",
              "      <td>3919</td>\n",
              "      <td>1</td>\n",
              "      <td>3</td>\n",
              "      <td>10</td>\n",
              "    </tr>\n",
              "    <tr>\n",
              "      <th>33</th>\n",
              "      <td>39</td>\n",
              "      <td>Yes</td>\n",
              "      <td>Sales</td>\n",
              "      <td>5</td>\n",
              "      <td>3</td>\n",
              "      <td>Technical Degree</td>\n",
              "      <td>4</td>\n",
              "      <td>4</td>\n",
              "      <td>Married</td>\n",
              "      <td>2086</td>\n",
              "      <td>3</td>\n",
              "      <td>4</td>\n",
              "      <td>1</td>\n",
              "    </tr>\n",
              "    <tr>\n",
              "      <th>34</th>\n",
              "      <td>24</td>\n",
              "      <td>Yes</td>\n",
              "      <td>Research &amp; Development</td>\n",
              "      <td>1</td>\n",
              "      <td>3</td>\n",
              "      <td>Medical</td>\n",
              "      <td>2</td>\n",
              "      <td>4</td>\n",
              "      <td>Married</td>\n",
              "      <td>2293</td>\n",
              "      <td>2</td>\n",
              "      <td>2</td>\n",
              "      <td>2</td>\n",
              "    </tr>\n",
              "    <tr>\n",
              "      <th>36</th>\n",
              "      <td>50</td>\n",
              "      <td>Yes</td>\n",
              "      <td>Sales</td>\n",
              "      <td>3</td>\n",
              "      <td>2</td>\n",
              "      <td>Marketing</td>\n",
              "      <td>1</td>\n",
              "      <td>3</td>\n",
              "      <td>Married</td>\n",
              "      <td>2683</td>\n",
              "      <td>1</td>\n",
              "      <td>3</td>\n",
              "      <td>3</td>\n",
              "    </tr>\n",
              "    <tr>\n",
              "      <th>42</th>\n",
              "      <td>26</td>\n",
              "      <td>Yes</td>\n",
              "      <td>Research &amp; Development</td>\n",
              "      <td>25</td>\n",
              "      <td>3</td>\n",
              "      <td>Life Sciences</td>\n",
              "      <td>1</td>\n",
              "      <td>3</td>\n",
              "      <td>Single</td>\n",
              "      <td>2293</td>\n",
              "      <td>1</td>\n",
              "      <td>2</td>\n",
              "      <td>1</td>\n",
              "    </tr>\n",
              "  </tbody>\n",
              "</table>\n",
              "</div>"
            ],
            "text/plain": [
              "    Age Attrition  ... WorkLifeBalance  YearsAtCompany\n",
              "0    41       Yes  ...               1               6\n",
              "2    37       Yes  ...               3               0\n",
              "14   28       Yes  ...               3               4\n",
              "21   36       Yes  ...               3               5\n",
              "24   34       Yes  ...               3               4\n",
              "26   32       Yes  ...               3              10\n",
              "33   39       Yes  ...               4               1\n",
              "34   24       Yes  ...               2               2\n",
              "36   50       Yes  ...               3               3\n",
              "42   26       Yes  ...               2               1\n",
              "\n",
              "[10 rows x 13 columns]"
            ]
          },
          "metadata": {},
          "execution_count": 43
        }
      ]
    },
    {
      "cell_type": "markdown",
      "metadata": {
        "id": "uFdjMhpP37KL"
      },
      "source": [
        "### Number of Employees in Department"
      ]
    },
    {
      "cell_type": "code",
      "metadata": {
        "colab": {
          "base_uri": "https://localhost:8080/",
          "height": 414
        },
        "id": "Is5KPHyiMlDf",
        "outputId": "1c2d1a6a-b0b7-4869-b17d-6eaf10028fbf"
      },
      "source": [
        "plt.figure(figsize=(12,6))\n",
        "sns.countplot(x=df[\"Department\"])\n",
        "plt.title(\"Department\",fontsize=20)\n",
        "plt.xlabel(\"Types of Department\", fontsize=16)\n",
        "plt.ylabel(\"Number of employee\",fontsize=16)\n",
        "plt.show()\n",
        "#Plot tells us the quantity of employees in different department."
      ],
      "execution_count": null,
      "outputs": [
        {
          "output_type": "display_data",
          "data": {
            "image/png": "[encoded data removed]",
            "text/plain": [
              "<Figure size 864x432 with 1 Axes>"
            ]
          },
          "metadata": {
            "needs_background": "light"
          }
        }
      ]
    },
    {
      "cell_type": "markdown",
      "metadata": {
        "id": "g9wgJ00g4PyL"
      },
      "source": [
        "### Employee Classification based on Education field"
      ]
    },
    {
      "cell_type": "code",
      "metadata": {
        "id": "0wO6huNQN2qx",
        "colab": {
          "base_uri": "https://localhost:8080/",
          "height": 414
        },
        "outputId": "c9fa4cbc-d80e-4c94-a8e8-888778aedecb"
      },
      "source": [
        "plt.figure(figsize=(12,6))\n",
        "sns.histplot(x=\"EducationField\", data=df,kde=False)\n",
        "plt.title(\"Classification by Education field\",fontsize=20)\n",
        "plt.xlabel(\"Types of education field\",fontsize=16)\n",
        "plt.ylabel(\"Number of employee\",fontsize=16)\n",
        "plt.show()\n",
        "\n",
        "##Employees classification based on their education field."
      ],
      "execution_count": null,
      "outputs": [
        {
          "output_type": "display_data",
          "data": {
            "image/png": "[encoded data removed]",
            "text/plain": [
              "<Figure size 864x432 with 1 Axes>"
            ]
          },
          "metadata": {
            "needs_background": "light"
          }
        }
      ]
    },
    {
      "cell_type": "markdown",
      "metadata": {
        "id": "Evkk1LHe4kNH"
      },
      "source": [
        "### **Marital status of Employees**"
      ]
    },
    {
      "cell_type": "code",
      "metadata": {
        "colab": {
          "base_uri": "https://localhost:8080/",
          "height": 557
        },
        "id": "5rhwLZISjJ4_",
        "outputId": "9dc92344-7497-4722-9c36-316c7ba56e11"
      },
      "source": [
        "plt.figure(figsize=(12,8))\n",
        "df.MaritalStatus.value_counts().plot(kind=\"bar\",color=\"g\")\n",
        "plt.title(\"Marital Status\",fontsize=20)\n",
        "plt.xlabel(\"Types of marital status\",fontsize=16)\n",
        "plt.ylabel(\"Number of employees\",fontsize=16)\n",
        "\n",
        "plt.show()\n",
        "\n",
        "####Marital status of employees.\n",
        "# Maximum number of employees are single."
      ],
      "execution_count": null,
      "outputs": [
        {
          "output_type": "display_data",
          "data": {
            "image/png": "[encoded data removed]",
            "text/plain": [
              "<Figure size 864x576 with 1 Axes>"
            ]
          },
          "metadata": {
            "needs_background": "light"
          }
        }
      ]
    },
    {
      "cell_type": "markdown",
      "metadata": {
        "id": "y4NMTN3B6rf1"
      },
      "source": [
        "###   **Department wise left employee**"
      ]
    },
    {
      "cell_type": "code",
      "metadata": {
        "colab": {
          "base_uri": "https://localhost:8080/"
        },
        "id": "NbiVJ-fp5Hkn",
        "outputId": "6328cc4c-36eb-4527-85a6-ee51a4521d74"
      },
      "source": [
        "df_left_employee.groupby(\"Attrition\")[\"Department\"].value_counts()"
      ],
      "execution_count": null,
      "outputs": [
        {
          "output_type": "execute_result",
          "data": {
            "text/plain": [
              "Attrition  Department            \n",
              "Yes        Research & Development    133\n",
              "           Sales                      92\n",
              "           Human Resources            12\n",
              "Name: Department, dtype: int64"
            ]
          },
          "metadata": {},
          "execution_count": 47
        }
      ]
    },
    {
      "cell_type": "code",
      "metadata": {
        "id": "cpEgSu4XkAwx",
        "colab": {
          "base_uri": "https://localhost:8080/",
          "height": 665
        },
        "outputId": "01ce3ec7-5413-4e53-bbcf-653b01b712f7"
      },
      "source": [
        "plt.figure(figsize=(16,8))\n",
        "df_left_employee.groupby(\"Attrition\")[\"Department\"].value_counts().plot(kind=\"bar\",color=\"m\")\n",
        "plt.title(\"Department wise left Employees\", fontsize=20)\n",
        "plt.ylabel(\"No. employee left\", fontsize=12)\n",
        "plt.show()\n",
        "\n",
        "## Maximum number of employees has left in research & development department."
      ],
      "execution_count": null,
      "outputs": [
        {
          "output_type": "display_data",
          "data": {
            "image/png": "[encoded data removed]",
            "text/plain": [
              "<Figure size 1152x576 with 1 Axes>"
            ]
          },
          "metadata": {
            "needs_background": "light"
          }
        }
      ]
    },
    {
      "cell_type": "markdown",
      "metadata": {
        "id": "zhQIdtXc6UpV"
      },
      "source": [
        "###     **Marital status of employee in different department**"
      ]
    },
    {
      "cell_type": "code",
      "metadata": {
        "id": "ZXRkMCTKkNKK",
        "colab": {
          "base_uri": "https://localhost:8080/"
        },
        "outputId": "db82c63a-904b-49c1-c342-880bd09f8f94"
      },
      "source": [
        "df.groupby(\"Department\")[\"MaritalStatus\"].value_counts()"
      ],
      "execution_count": null,
      "outputs": [
        {
          "output_type": "execute_result",
          "data": {
            "text/plain": [
              "Department              MaritalStatus\n",
              "Human Resources         Married           34\n",
              "                        Divorced          16\n",
              "                        Single            13\n",
              "Research & Development  Married          433\n",
              "                        Single           304\n",
              "                        Divorced         224\n",
              "Sales                   Married          206\n",
              "                        Single           153\n",
              "                        Divorced          87\n",
              "Name: MaritalStatus, dtype: int64"
            ]
          },
          "metadata": {},
          "execution_count": 49
        }
      ]
    },
    {
      "cell_type": "code",
      "metadata": {
        "colab": {
          "base_uri": "https://localhost:8080/",
          "height": 518
        },
        "id": "X0MUYiFN3ZnU",
        "outputId": "ced1c5f8-5863-4b8b-d2d1-a7c7ffc66275"
      },
      "source": [
        "plt.figure(figsize=(12,8))\n",
        "df.groupby(\"Department\")[\"MaritalStatus\"].value_counts().plot(kind=\"barh\",color=\"olive\")\n",
        "plt.title(\"Department wise marital status\",fontsize=20)\n",
        "plt.xlabel(\"Number of employee\")\n",
        "plt.show()\n",
        "\n",
        "# Graph tells that Research & development department has more number of married employee as compare to others."
      ],
      "execution_count": null,
      "outputs": [
        {
          "output_type": "display_data",
          "data": {
            "image/png": "[encoded data removed]",
            "text/plain": [
              "<Figure size 864x576 with 1 Axes>"
            ]
          },
          "metadata": {
            "needs_background": "light"
          }
        }
      ]
    },
    {
      "cell_type": "markdown",
      "metadata": {
        "id": "yJa00aXt7Cpe"
      },
      "source": [
        "**Modelling**"
      ]
    },
    {
      "cell_type": "code",
      "metadata": {
        "colab": {
          "base_uri": "https://localhost:8080/"
        },
        "id": "iRXSxB4M3jUH",
        "outputId": "df1b88b1-2cdd-44e4-b2d7-546b0f16c9f2"
      },
      "source": [
        "df.info()"
      ],
      "execution_count": null,
      "outputs": [
        {
          "output_type": "stream",
          "name": "stdout",
          "text": [
            "<class 'pandas.core.frame.DataFrame'>\n",
            "RangeIndex: 1470 entries, 0 to 1469\n",
            "Data columns (total 13 columns):\n",
            " #   Column                   Non-Null Count  Dtype \n",
            "---  ------                   --------------  ----- \n",
            " 0   Age                      1470 non-null   int64 \n",
            " 1   Attrition                1470 non-null   object\n",
            " 2   Department               1470 non-null   object\n",
            " 3   DistanceFromHome         1470 non-null   int64 \n",
            " 4   Education                1470 non-null   int64 \n",
            " 5   EducationField           1470 non-null   object\n",
            " 6   EnvironmentSatisfaction  1470 non-null   int64 \n",
            " 7   JobSatisfaction          1470 non-null   int64 \n",
            " 8   MaritalStatus            1470 non-null   object\n",
            " 9   MonthlyIncome            1470 non-null   int64 \n",
            " 10  NumCompaniesWorked       1470 non-null   int64 \n",
            " 11  WorkLifeBalance          1470 non-null   int64 \n",
            " 12  YearsAtCompany           1470 non-null   int64 \n",
            "dtypes: int64(9), object(4)\n",
            "memory usage: 149.4+ KB\n"
          ]
        }
      ]
    },
    {
      "cell_type": "code",
      "metadata": {
        "colab": {
          "base_uri": "https://localhost:8080/"
        },
        "id": "EhkGTprJ7MUa",
        "outputId": "49664f4d-a9cd-4571-eac6-36d9dd8c0485"
      },
      "source": [
        "df.std()"
      ],
      "execution_count": null,
      "outputs": [
        {
          "output_type": "execute_result",
          "data": {
            "text/plain": [
              "Age                           9.135373\n",
              "DistanceFromHome              8.106864\n",
              "Education                     1.024165\n",
              "EnvironmentSatisfaction       1.093082\n",
              "JobSatisfaction               1.102846\n",
              "MonthlyIncome              4707.956783\n",
              "NumCompaniesWorked            2.498009\n",
              "WorkLifeBalance               0.706476\n",
              "YearsAtCompany                6.126525\n",
              "dtype: float64"
            ]
          },
          "metadata": {},
          "execution_count": 52
        }
      ]
    },
    {
      "cell_type": "code",
      "metadata": {
        "colab": {
          "base_uri": "https://localhost:8080/",
          "height": 292
        },
        "id": "HH3uJ-z77Zci",
        "outputId": "502b0074-bfbc-427a-9c86-0704e7470c1b"
      },
      "source": [
        "df[\"Attrition\"].replace(\"Yes\",1,inplace=True)\n",
        "df[\"Attrition\"].replace(\"No\",0,inplace=True)\n",
        "df.head()"
      ],
      "execution_count": null,
      "outputs": [
        {
          "output_type": "execute_result",
          "data": {
            "text/html": [
              "<div>\n",
              "<style scoped>\n",
              "    .dataframe tbody tr th:only-of-type {\n",
              "        vertical-align: middle;\n",
              "    }\n",
              "\n",
              "    .dataframe tbody tr th {\n",
              "        vertical-align: top;\n",
              "    }\n",
              "\n",
              "    .dataframe thead th {\n",
              "        text-align: right;\n",
              "    }\n",
              "</style>\n",
              "<table border=\"1\" class=\"dataframe\">\n",
              "  <thead>\n",
              "    <tr style=\"text-align: right;\">\n",
              "      <th></th>\n",
              "      <th>Age</th>\n",
              "      <th>Attrition</th>\n",
              "      <th>Department</th>\n",
              "      <th>DistanceFromHome</th>\n",
              "      <th>Education</th>\n",
              "      <th>EducationField</th>\n",
              "      <th>EnvironmentSatisfaction</th>\n",
              "      <th>JobSatisfaction</th>\n",
              "      <th>MaritalStatus</th>\n",
              "      <th>MonthlyIncome</th>\n",
              "      <th>NumCompaniesWorked</th>\n",
              "      <th>WorkLifeBalance</th>\n",
              "      <th>YearsAtCompany</th>\n",
              "    </tr>\n",
              "  </thead>\n",
              "  <tbody>\n",
              "    <tr>\n",
              "      <th>0</th>\n",
              "      <td>41</td>\n",
              "      <td>1</td>\n",
              "      <td>Sales</td>\n",
              "      <td>1</td>\n",
              "      <td>2</td>\n",
              "      <td>Life Sciences</td>\n",
              "      <td>2</td>\n",
              "      <td>4</td>\n",
              "      <td>Single</td>\n",
              "      <td>5993</td>\n",
              "      <td>8</td>\n",
              "      <td>1</td>\n",
              "      <td>6</td>\n",
              "    </tr>\n",
              "    <tr>\n",
              "      <th>1</th>\n",
              "      <td>49</td>\n",
              "      <td>0</td>\n",
              "      <td>Research &amp; Development</td>\n",
              "      <td>8</td>\n",
              "      <td>1</td>\n",
              "      <td>Life Sciences</td>\n",
              "      <td>3</td>\n",
              "      <td>2</td>\n",
              "      <td>Married</td>\n",
              "      <td>5130</td>\n",
              "      <td>1</td>\n",
              "      <td>3</td>\n",
              "      <td>10</td>\n",
              "    </tr>\n",
              "    <tr>\n",
              "      <th>2</th>\n",
              "      <td>37</td>\n",
              "      <td>1</td>\n",
              "      <td>Research &amp; Development</td>\n",
              "      <td>2</td>\n",
              "      <td>2</td>\n",
              "      <td>Other</td>\n",
              "      <td>4</td>\n",
              "      <td>3</td>\n",
              "      <td>Single</td>\n",
              "      <td>2090</td>\n",
              "      <td>6</td>\n",
              "      <td>3</td>\n",
              "      <td>0</td>\n",
              "    </tr>\n",
              "    <tr>\n",
              "      <th>3</th>\n",
              "      <td>33</td>\n",
              "      <td>0</td>\n",
              "      <td>Research &amp; Development</td>\n",
              "      <td>3</td>\n",
              "      <td>4</td>\n",
              "      <td>Life Sciences</td>\n",
              "      <td>4</td>\n",
              "      <td>3</td>\n",
              "      <td>Married</td>\n",
              "      <td>2909</td>\n",
              "      <td>1</td>\n",
              "      <td>3</td>\n",
              "      <td>8</td>\n",
              "    </tr>\n",
              "    <tr>\n",
              "      <th>4</th>\n",
              "      <td>27</td>\n",
              "      <td>0</td>\n",
              "      <td>Research &amp; Development</td>\n",
              "      <td>2</td>\n",
              "      <td>1</td>\n",
              "      <td>Medical</td>\n",
              "      <td>1</td>\n",
              "      <td>2</td>\n",
              "      <td>Married</td>\n",
              "      <td>3468</td>\n",
              "      <td>9</td>\n",
              "      <td>3</td>\n",
              "      <td>2</td>\n",
              "    </tr>\n",
              "  </tbody>\n",
              "</table>\n",
              "</div>"
            ],
            "text/plain": [
              "   Age  Attrition  ... WorkLifeBalance  YearsAtCompany\n",
              "0   41          1  ...               1               6\n",
              "1   49          0  ...               3              10\n",
              "2   37          1  ...               3               0\n",
              "3   33          0  ...               3               8\n",
              "4   27          0  ...               3               2\n",
              "\n",
              "[5 rows x 13 columns]"
            ]
          },
          "metadata": {},
          "execution_count": 53
        }
      ]
    },
    {
      "cell_type": "code",
      "metadata": {
        "colab": {
          "base_uri": "https://localhost:8080/",
          "height": 224
        },
        "id": "5deBJ_JY7j7B",
        "outputId": "71d6a0ba-d255-4408-c85e-9aaefdc5c5a6"
      },
      "source": [
        "df[\"Department\"].replace(\"Sales\",1,inplace=True)\n",
        "df[\"Department\"].replace(\"Research & Development\",2,inplace=True)\n",
        "df[\"Department\"].replace(\"Human Resources\",3,inplace=True)\n",
        "df.head()\n",
        "\n"
      ],
      "execution_count": null,
      "outputs": [
        {
          "output_type": "execute_result",
          "data": {
            "text/html": [
              "<div>\n",
              "<style scoped>\n",
              "    .dataframe tbody tr th:only-of-type {\n",
              "        vertical-align: middle;\n",
              "    }\n",
              "\n",
              "    .dataframe tbody tr th {\n",
              "        vertical-align: top;\n",
              "    }\n",
              "\n",
              "    .dataframe thead th {\n",
              "        text-align: right;\n",
              "    }\n",
              "</style>\n",
              "<table border=\"1\" class=\"dataframe\">\n",
              "  <thead>\n",
              "    <tr style=\"text-align: right;\">\n",
              "      <th></th>\n",
              "      <th>Age</th>\n",
              "      <th>Attrition</th>\n",
              "      <th>Department</th>\n",
              "      <th>DistanceFromHome</th>\n",
              "      <th>Education</th>\n",
              "      <th>EducationField</th>\n",
              "      <th>EnvironmentSatisfaction</th>\n",
              "      <th>JobSatisfaction</th>\n",
              "      <th>MaritalStatus</th>\n",
              "      <th>MonthlyIncome</th>\n",
              "      <th>NumCompaniesWorked</th>\n",
              "      <th>WorkLifeBalance</th>\n",
              "      <th>YearsAtCompany</th>\n",
              "    </tr>\n",
              "  </thead>\n",
              "  <tbody>\n",
              "    <tr>\n",
              "      <th>0</th>\n",
              "      <td>41</td>\n",
              "      <td>1</td>\n",
              "      <td>1</td>\n",
              "      <td>1</td>\n",
              "      <td>2</td>\n",
              "      <td>Life Sciences</td>\n",
              "      <td>2</td>\n",
              "      <td>4</td>\n",
              "      <td>Single</td>\n",
              "      <td>5993</td>\n",
              "      <td>8</td>\n",
              "      <td>1</td>\n",
              "      <td>6</td>\n",
              "    </tr>\n",
              "    <tr>\n",
              "      <th>1</th>\n",
              "      <td>49</td>\n",
              "      <td>0</td>\n",
              "      <td>2</td>\n",
              "      <td>8</td>\n",
              "      <td>1</td>\n",
              "      <td>Life Sciences</td>\n",
              "      <td>3</td>\n",
              "      <td>2</td>\n",
              "      <td>Married</td>\n",
              "      <td>5130</td>\n",
              "      <td>1</td>\n",
              "      <td>3</td>\n",
              "      <td>10</td>\n",
              "    </tr>\n",
              "    <tr>\n",
              "      <th>2</th>\n",
              "      <td>37</td>\n",
              "      <td>1</td>\n",
              "      <td>2</td>\n",
              "      <td>2</td>\n",
              "      <td>2</td>\n",
              "      <td>Other</td>\n",
              "      <td>4</td>\n",
              "      <td>3</td>\n",
              "      <td>Single</td>\n",
              "      <td>2090</td>\n",
              "      <td>6</td>\n",
              "      <td>3</td>\n",
              "      <td>0</td>\n",
              "    </tr>\n",
              "    <tr>\n",
              "      <th>3</th>\n",
              "      <td>33</td>\n",
              "      <td>0</td>\n",
              "      <td>2</td>\n",
              "      <td>3</td>\n",
              "      <td>4</td>\n",
              "      <td>Life Sciences</td>\n",
              "      <td>4</td>\n",
              "      <td>3</td>\n",
              "      <td>Married</td>\n",
              "      <td>2909</td>\n",
              "      <td>1</td>\n",
              "      <td>3</td>\n",
              "      <td>8</td>\n",
              "    </tr>\n",
              "    <tr>\n",
              "      <th>4</th>\n",
              "      <td>27</td>\n",
              "      <td>0</td>\n",
              "      <td>2</td>\n",
              "      <td>2</td>\n",
              "      <td>1</td>\n",
              "      <td>Medical</td>\n",
              "      <td>1</td>\n",
              "      <td>2</td>\n",
              "      <td>Married</td>\n",
              "      <td>3468</td>\n",
              "      <td>9</td>\n",
              "      <td>3</td>\n",
              "      <td>2</td>\n",
              "    </tr>\n",
              "  </tbody>\n",
              "</table>\n",
              "</div>"
            ],
            "text/plain": [
              "   Age  Attrition  ...  WorkLifeBalance  YearsAtCompany\n",
              "0   41          1  ...                1               6\n",
              "1   49          0  ...                3              10\n",
              "2   37          1  ...                3               0\n",
              "3   33          0  ...                3               8\n",
              "4   27          0  ...                3               2\n",
              "\n",
              "[5 rows x 13 columns]"
            ]
          },
          "metadata": {},
          "execution_count": 54
        }
      ]
    },
    {
      "cell_type": "code",
      "metadata": {
        "colab": {
          "base_uri": "https://localhost:8080/"
        },
        "id": "XkbQkl4DGRY4",
        "outputId": "20c7ecad-8411-4c19-e947-d3f2b30dda39"
      },
      "source": [
        "df[\"EducationField\"].unique()"
      ],
      "execution_count": null,
      "outputs": [
        {
          "output_type": "execute_result",
          "data": {
            "text/plain": [
              "array(['Life Sciences', 'Other', 'Medical', 'Marketing',\n",
              "       'Technical Degree', 'Human Resources'], dtype=object)"
            ]
          },
          "metadata": {},
          "execution_count": 55
        }
      ]
    },
    {
      "cell_type": "code",
      "metadata": {
        "colab": {
          "base_uri": "https://localhost:8080/",
          "height": 224
        },
        "id": "kfQMkq4aGoQ0",
        "outputId": "9367782d-bf9f-44d2-db57-dabeabdb8a10"
      },
      "source": [
        "df[\"EducationField\"].replace(\"Life Sciences\",1,inplace=True)\n",
        "df[\"EducationField\"].replace(\"Other\",2,inplace=True)\n",
        "df[\"EducationField\"].replace(\"Medical\",3,inplace=True)\n",
        "df[\"EducationField\"].replace(\"Marketing\",4,inplace=True)\n",
        "df[\"EducationField\"].replace(\"Technical Degree\",5,inplace=True)\n",
        "df[\"EducationField\"].replace(\"Human Resources\",6,inplace=True)\n",
        "df.head()\n",
        "\n",
        "\n",
        "\n",
        "\n",
        "\n"
      ],
      "execution_count": null,
      "outputs": [
        {
          "output_type": "execute_result",
          "data": {
            "text/html": [
              "<div>\n",
              "<style scoped>\n",
              "    .dataframe tbody tr th:only-of-type {\n",
              "        vertical-align: middle;\n",
              "    }\n",
              "\n",
              "    .dataframe tbody tr th {\n",
              "        vertical-align: top;\n",
              "    }\n",
              "\n",
              "    .dataframe thead th {\n",
              "        text-align: right;\n",
              "    }\n",
              "</style>\n",
              "<table border=\"1\" class=\"dataframe\">\n",
              "  <thead>\n",
              "    <tr style=\"text-align: right;\">\n",
              "      <th></th>\n",
              "      <th>Age</th>\n",
              "      <th>Attrition</th>\n",
              "      <th>Department</th>\n",
              "      <th>DistanceFromHome</th>\n",
              "      <th>Education</th>\n",
              "      <th>EducationField</th>\n",
              "      <th>EnvironmentSatisfaction</th>\n",
              "      <th>JobSatisfaction</th>\n",
              "      <th>MaritalStatus</th>\n",
              "      <th>MonthlyIncome</th>\n",
              "      <th>NumCompaniesWorked</th>\n",
              "      <th>WorkLifeBalance</th>\n",
              "      <th>YearsAtCompany</th>\n",
              "    </tr>\n",
              "  </thead>\n",
              "  <tbody>\n",
              "    <tr>\n",
              "      <th>0</th>\n",
              "      <td>41</td>\n",
              "      <td>1</td>\n",
              "      <td>1</td>\n",
              "      <td>1</td>\n",
              "      <td>2</td>\n",
              "      <td>1</td>\n",
              "      <td>2</td>\n",
              "      <td>4</td>\n",
              "      <td>Single</td>\n",
              "      <td>5993</td>\n",
              "      <td>8</td>\n",
              "      <td>1</td>\n",
              "      <td>6</td>\n",
              "    </tr>\n",
              "    <tr>\n",
              "      <th>1</th>\n",
              "      <td>49</td>\n",
              "      <td>0</td>\n",
              "      <td>2</td>\n",
              "      <td>8</td>\n",
              "      <td>1</td>\n",
              "      <td>1</td>\n",
              "      <td>3</td>\n",
              "      <td>2</td>\n",
              "      <td>Married</td>\n",
              "      <td>5130</td>\n",
              "      <td>1</td>\n",
              "      <td>3</td>\n",
              "      <td>10</td>\n",
              "    </tr>\n",
              "    <tr>\n",
              "      <th>2</th>\n",
              "      <td>37</td>\n",
              "      <td>1</td>\n",
              "      <td>2</td>\n",
              "      <td>2</td>\n",
              "      <td>2</td>\n",
              "      <td>2</td>\n",
              "      <td>4</td>\n",
              "      <td>3</td>\n",
              "      <td>Single</td>\n",
              "      <td>2090</td>\n",
              "      <td>6</td>\n",
              "      <td>3</td>\n",
              "      <td>0</td>\n",
              "    </tr>\n",
              "    <tr>\n",
              "      <th>3</th>\n",
              "      <td>33</td>\n",
              "      <td>0</td>\n",
              "      <td>2</td>\n",
              "      <td>3</td>\n",
              "      <td>4</td>\n",
              "      <td>1</td>\n",
              "      <td>4</td>\n",
              "      <td>3</td>\n",
              "      <td>Married</td>\n",
              "      <td>2909</td>\n",
              "      <td>1</td>\n",
              "      <td>3</td>\n",
              "      <td>8</td>\n",
              "    </tr>\n",
              "    <tr>\n",
              "      <th>4</th>\n",
              "      <td>27</td>\n",
              "      <td>0</td>\n",
              "      <td>2</td>\n",
              "      <td>2</td>\n",
              "      <td>1</td>\n",
              "      <td>3</td>\n",
              "      <td>1</td>\n",
              "      <td>2</td>\n",
              "      <td>Married</td>\n",
              "      <td>3468</td>\n",
              "      <td>9</td>\n",
              "      <td>3</td>\n",
              "      <td>2</td>\n",
              "    </tr>\n",
              "  </tbody>\n",
              "</table>\n",
              "</div>"
            ],
            "text/plain": [
              "   Age  Attrition  ...  WorkLifeBalance  YearsAtCompany\n",
              "0   41          1  ...                1               6\n",
              "1   49          0  ...                3              10\n",
              "2   37          1  ...                3               0\n",
              "3   33          0  ...                3               8\n",
              "4   27          0  ...                3               2\n",
              "\n",
              "[5 rows x 13 columns]"
            ]
          },
          "metadata": {},
          "execution_count": 56
        }
      ]
    },
    {
      "cell_type": "code",
      "metadata": {
        "colab": {
          "base_uri": "https://localhost:8080/",
          "height": 224
        },
        "id": "moeG2r1yG-S3",
        "outputId": "b6b94350-f704-44a1-8050-9565def383c6"
      },
      "source": [
        "df[\"MaritalStatus\"].replace(\"Single\",1,inplace=True)\n",
        "df[\"MaritalStatus\"].replace(\"Divorce\",2,inplace=True)\n",
        "df[\"MaritalStatus\"].replace(\"Married\",3,inplace=True)\n",
        "df.head()"
      ],
      "execution_count": null,
      "outputs": [
        {
          "output_type": "execute_result",
          "data": {
            "text/html": [
              "<div>\n",
              "<style scoped>\n",
              "    .dataframe tbody tr th:only-of-type {\n",
              "        vertical-align: middle;\n",
              "    }\n",
              "\n",
              "    .dataframe tbody tr th {\n",
              "        vertical-align: top;\n",
              "    }\n",
              "\n",
              "    .dataframe thead th {\n",
              "        text-align: right;\n",
              "    }\n",
              "</style>\n",
              "<table border=\"1\" class=\"dataframe\">\n",
              "  <thead>\n",
              "    <tr style=\"text-align: right;\">\n",
              "      <th></th>\n",
              "      <th>Age</th>\n",
              "      <th>Attrition</th>\n",
              "      <th>Department</th>\n",
              "      <th>DistanceFromHome</th>\n",
              "      <th>Education</th>\n",
              "      <th>EducationField</th>\n",
              "      <th>EnvironmentSatisfaction</th>\n",
              "      <th>JobSatisfaction</th>\n",
              "      <th>MaritalStatus</th>\n",
              "      <th>MonthlyIncome</th>\n",
              "      <th>NumCompaniesWorked</th>\n",
              "      <th>WorkLifeBalance</th>\n",
              "      <th>YearsAtCompany</th>\n",
              "    </tr>\n",
              "  </thead>\n",
              "  <tbody>\n",
              "    <tr>\n",
              "      <th>0</th>\n",
              "      <td>41</td>\n",
              "      <td>1</td>\n",
              "      <td>1</td>\n",
              "      <td>1</td>\n",
              "      <td>2</td>\n",
              "      <td>1</td>\n",
              "      <td>2</td>\n",
              "      <td>4</td>\n",
              "      <td>1</td>\n",
              "      <td>5993</td>\n",
              "      <td>8</td>\n",
              "      <td>1</td>\n",
              "      <td>6</td>\n",
              "    </tr>\n",
              "    <tr>\n",
              "      <th>1</th>\n",
              "      <td>49</td>\n",
              "      <td>0</td>\n",
              "      <td>2</td>\n",
              "      <td>8</td>\n",
              "      <td>1</td>\n",
              "      <td>1</td>\n",
              "      <td>3</td>\n",
              "      <td>2</td>\n",
              "      <td>3</td>\n",
              "      <td>5130</td>\n",
              "      <td>1</td>\n",
              "      <td>3</td>\n",
              "      <td>10</td>\n",
              "    </tr>\n",
              "    <tr>\n",
              "      <th>2</th>\n",
              "      <td>37</td>\n",
              "      <td>1</td>\n",
              "      <td>2</td>\n",
              "      <td>2</td>\n",
              "      <td>2</td>\n",
              "      <td>2</td>\n",
              "      <td>4</td>\n",
              "      <td>3</td>\n",
              "      <td>1</td>\n",
              "      <td>2090</td>\n",
              "      <td>6</td>\n",
              "      <td>3</td>\n",
              "      <td>0</td>\n",
              "    </tr>\n",
              "    <tr>\n",
              "      <th>3</th>\n",
              "      <td>33</td>\n",
              "      <td>0</td>\n",
              "      <td>2</td>\n",
              "      <td>3</td>\n",
              "      <td>4</td>\n",
              "      <td>1</td>\n",
              "      <td>4</td>\n",
              "      <td>3</td>\n",
              "      <td>3</td>\n",
              "      <td>2909</td>\n",
              "      <td>1</td>\n",
              "      <td>3</td>\n",
              "      <td>8</td>\n",
              "    </tr>\n",
              "    <tr>\n",
              "      <th>4</th>\n",
              "      <td>27</td>\n",
              "      <td>0</td>\n",
              "      <td>2</td>\n",
              "      <td>2</td>\n",
              "      <td>1</td>\n",
              "      <td>3</td>\n",
              "      <td>1</td>\n",
              "      <td>2</td>\n",
              "      <td>3</td>\n",
              "      <td>3468</td>\n",
              "      <td>9</td>\n",
              "      <td>3</td>\n",
              "      <td>2</td>\n",
              "    </tr>\n",
              "  </tbody>\n",
              "</table>\n",
              "</div>"
            ],
            "text/plain": [
              "   Age  Attrition  ...  WorkLifeBalance  YearsAtCompany\n",
              "0   41          1  ...                1               6\n",
              "1   49          0  ...                3              10\n",
              "2   37          1  ...                3               0\n",
              "3   33          0  ...                3               8\n",
              "4   27          0  ...                3               2\n",
              "\n",
              "[5 rows x 13 columns]"
            ]
          },
          "metadata": {},
          "execution_count": 57
        }
      ]
    },
    {
      "cell_type": "code",
      "metadata": {
        "colab": {
          "base_uri": "https://localhost:8080/"
        },
        "id": "RoQ0BSBSmEjn",
        "outputId": "6139c951-7712-4238-8c3d-38ff1a02f76d"
      },
      "source": [
        "df1=df.select_dtypes(include=[\"int64\"])\n",
        "df1.dtypes"
      ],
      "execution_count": null,
      "outputs": [
        {
          "output_type": "execute_result",
          "data": {
            "text/plain": [
              "Age                        int64\n",
              "Attrition                  int64\n",
              "Department                 int64\n",
              "DistanceFromHome           int64\n",
              "Education                  int64\n",
              "EducationField             int64\n",
              "EnvironmentSatisfaction    int64\n",
              "JobSatisfaction            int64\n",
              "MonthlyIncome              int64\n",
              "NumCompaniesWorked         int64\n",
              "WorkLifeBalance            int64\n",
              "YearsAtCompany             int64\n",
              "dtype: object"
            ]
          },
          "metadata": {},
          "execution_count": 58
        }
      ]
    },
    {
      "cell_type": "markdown",
      "metadata": {
        "id": "tILMYImIJk3K"
      },
      "source": [
        "**Building logistic regression model**"
      ]
    },
    {
      "cell_type": "code",
      "metadata": {
        "colab": {
          "base_uri": "https://localhost:8080/"
        },
        "id": "93i2vCIpJf5z",
        "outputId": "826bf1a5-69e4-40e0-d06f-db80628493a6"
      },
      "source": [
        "X=df.drop(\"Attrition\", axis=1)\n",
        "Y=df[\"Attrition\"]\n",
        "Y.head()"
      ],
      "execution_count": null,
      "outputs": [
        {
          "output_type": "execute_result",
          "data": {
            "text/plain": [
              "0    1\n",
              "1    0\n",
              "2    1\n",
              "3    0\n",
              "4    0\n",
              "Name: Attrition, dtype: int64"
            ]
          },
          "metadata": {},
          "execution_count": 59
        }
      ]
    },
    {
      "cell_type": "code",
      "metadata": {
        "id": "ByIrixvyJy1S"
      },
      "source": [
        ""
      ],
      "execution_count": null,
      "outputs": []
    }
  ]
}